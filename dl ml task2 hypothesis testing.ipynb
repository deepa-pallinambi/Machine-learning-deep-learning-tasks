{
 "cells": [
  {
   "cell_type": "markdown",
   "id": "86037299-3b7b-43bb-952e-f0924146e379",
   "metadata": {},
   "source": [
    "1.Suppose a child psychologist says that the average time that working mothers spend talking\n",
    "to their children is at-least 11 minutes per day. You want to test\n",
    "You conduct a random sample of 1000 working mothers and find they spend an average of 11.5\n",
    "minutes per day talking with their children. Assume prior research suggests the population\n",
    "standard deviation is 2.3 minutes.\n",
    "Conduct test with a level of significance of alpha=0.05"
   ]
  },
  {
   "cell_type": "code",
   "execution_count": 11,
   "id": "4b778a7e-5c5c-4dc8-b430-90c480063017",
   "metadata": {},
   "outputs": [],
   "source": [
    "import numpy as np\n",
    "import scipy.stats as stats"
   ]
  },
  {
   "cell_type": "code",
   "execution_count": 14,
   "id": "8e11453b-5c6c-4306-a23e-4d9a9796dbc6",
   "metadata": {},
   "outputs": [
    {
     "name": "stdout",
     "output_type": "stream",
     "text": [
      "standard error : 0.07273238618387272\n",
      "z score : 6.874516652539955\n",
      "critical value of z @ 5% level: -1.6448536269514729\n",
      "Reject null hypothesis\n",
      "The average time that working mothers spend talking to their children is less than 11 minutes per day\n"
     ]
    }
   ],
   "source": [
    "# H0: μ >= 11 (where μ is the population mean)\n",
    "# H1: μ < 11\n",
    "#(H0 is the null hypothesis H1 is the alternative hypothesis)\n",
    "\n",
    "#Given data ;\n",
    "\n",
    "μ=11            #population_mean\n",
    "x=11.5          #sample_mean\n",
    "sigma=2.3       #Population_std\n",
    "n=1000          #sample_size\n",
    "alpha=0.05      #level of significance\n",
    "CI=0.95         #confidence interval\n",
    "\n",
    "# standard error\n",
    "standard_error=(sigma/(np.sqrt(n)))\n",
    "print(\"standard error :\",standard_error)\n",
    "\n",
    "# Test statistic\n",
    "z_test=(x-μ)/standard_error\n",
    "print(\"z score :\" ,z_test)\n",
    "\n",
    "# Calculate critical value:\n",
    "# from  H0 & H1 clear that,it is left tail test.(H0>H1)\n",
    "z_critical=stats.norm.ppf(alpha)\n",
    "print(\"critical value of z @ 5% level:\",z_critical)\n",
    "\n",
    "if z_test>z_critical:\n",
    "    print(\"Reject null hypothesis\")\n",
    "    print(\"The average time that working mothers spend talking to their children is less than 11 minutes per day\")\n",
    "else:\n",
    "    print(\"Accept null hypothesis\")\n",
    "    print(\"The average time that working mothers spend talking to their children is at-least 11 minutes per day\")"
   ]
  },
  {
   "cell_type": "markdown",
   "id": "544f1b42-5f82-4e88-88de-e2a345133c02",
   "metadata": {},
   "source": [
    "2..Question: A coffee shop claims that their average wait time for customers is less than 5\n",
    "minutes. To test this claim, a sample of 40 customers is taken, and their wait times are recorded.\n",
    "The sample mean wait time is found to be 4.6 minutes with a standard deviation of 0.8 minutes.\n",
    "Perform a hypothesis test at a significance level of 0.05 and determine whether there is enough\n",
    "evidence to support the coffee shop's claim."
   ]
  },
  {
   "cell_type": "code",
   "execution_count": 16,
   "id": "ad115ab7-4936-4266-8776-b2599d34574e",
   "metadata": {},
   "outputs": [
    {
     "name": "stdout",
     "output_type": "stream",
     "text": [
      "standard error : 0.12649110640673517\n",
      "t_statistics : -3.162277660168382\n",
      "degrees of freedom is 39\n",
      "critical value under t_statistic is -1.6848751194974\n",
      "Accept null hypothesis\n",
      "There is  enough evidence to support the coffee shop's claim  that their average wait time for customers is less than 5 minutes..\n"
     ]
    }
   ],
   "source": [
    "# H0: μ < 5 (where μ is the population mean)\n",
    "# H1: μ >= 5 \n",
    "#(H0 is null hypothesis H1 is alternate hypothesis)\n",
    "\n",
    "#Given data ;\n",
    "\n",
    "μ=5             #population_mean\n",
    "x=4.6           #sample_mean\n",
    "s=0.8           #sample_std\n",
    "n=40            #sample_size\n",
    "alpha=0.05      #level of significance\n",
    "CI=0.95         #confidence interval\n",
    "\n",
    "# standard error\n",
    "standard_error=(s/(np.sqrt(n)))\n",
    "print(\"standard error :\",standard_error)\n",
    "\n",
    "# Test statistic\n",
    "t_statistic=(x-μ)/standard_error\n",
    "print(\"t_statistics :\" ,t_statistic)\n",
    "\n",
    "\n",
    "degrees_of_freedom = n - 1\n",
    "critical_value = stats.t.ppf(alpha, df=degrees_of_freedom)\n",
    "print(\"degrees of freedom is\",degrees_of_freedom)\n",
    "print(\"critical value under t_statistic is\",critical_value)\n",
    "\n",
    "if t_statistic>critical_value:\n",
    "    print(\"Reject null hypothesis\")\n",
    "    print(\"There is no enough evidence to support the coffee shop's claim.\")\n",
    "else:\n",
    "    print(\"Accept null hypothesis\")\n",
    "    print(\"There is  enough evidence to support the coffee shop's claim  that their average wait time for customers is less than 5 minutes..\")"
   ]
  },
  {
   "cell_type": "code",
   "execution_count": null,
   "id": "043c29b2-39c6-4a96-b71d-f88bae84bdaa",
   "metadata": {},
   "outputs": [],
   "source": []
  }
 ],
 "metadata": {
  "kernelspec": {
   "display_name": "Python 3 (ipykernel)",
   "language": "python",
   "name": "python3"
  },
  "language_info": {
   "codemirror_mode": {
    "name": "ipython",
    "version": 3
   },
   "file_extension": ".py",
   "mimetype": "text/x-python",
   "name": "python",
   "nbconvert_exporter": "python",
   "pygments_lexer": "ipython3",
   "version": "3.11.2"
  }
 },
 "nbformat": 4,
 "nbformat_minor": 5
}
